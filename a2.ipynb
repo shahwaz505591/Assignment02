{
 "cells": [
  {
   "cell_type": "code",
   "execution_count": null,
   "id": "4f4aa9e4-bee5-4420-8e3b-b595f73606cd",
   "metadata": {},
   "outputs": [],
   "source": [
    "Q1:Write a program to accept parcentage from the user and display the grade according to the following criteria.\n",
    "Ans: marks=int(input())\n",
    "if marks==90:\n",
    "    print(\"grade A\")\n",
    "elif marks>=80 and marks<=90:\n",
    "    print(\"grade B\")\n",
    "elif marks>=60 and marks <80:\n",
    "    print(\"grade C\")\n",
    "elif marks<60:\n",
    "    print(\"grade d\")"
   ]
  },
  {
   "cell_type": "code",
   "execution_count": null,
   "id": "b5e41d07-cfed-411b-971a-ebf702e02d54",
   "metadata": {},
   "outputs": [],
   "source": [
    "Q2:Write a program to accept the cost price of a bike and display the road tax to be paid according to the following criteria. \n",
    " Ans: cost_price=int(input(\"enter your cost price\"))\n",
    "if cost_price>100000:\n",
    "    print(\"you are paid 15% of road tax\")\n",
    "elif cost_price>50000 and cost_price <=100000:\n",
    "    print(\"you are paid 10% of road tax\")\n",
    "elif cost_price<=50000:\n",
    "    print(\"you are paid 5% of road tax\")"
   ]
  },
  {
   "cell_type": "code",
   "execution_count": null,
   "id": "d53bf9b6-9837-4436-8928-9b358d72450a",
   "metadata": {},
   "outputs": [],
   "source": [
    "Q3:Accept any city from the user and display monuments of that city.\n",
    "Ans: city=str(input())\n",
    "if city ==\"Delhi\":\n",
    "    print(\"Monument of that city is 'Red fort' \")\n",
    "elif city ==\"Agra\":\n",
    "    print(\"Monument of that city is 'Taj Mahal'\")\n",
    "elif city == \"Jaipur\":\n",
    "    print(\"Monument of that city is 'Jai Mahal'\")\n",
    "    \n",
    "    "
   ]
  },
  {
   "cell_type": "markdown",
   "id": "7113fa2c-4d88-4c04-85f0-b17002f13205",
   "metadata": {},
   "source": [
    "Q4:check how many times a given number can be divided by 3 before it is less than or equal to 10.\n",
    "Ans: number =30\n",
    " count=0\n",
    " while number >10:\n",
    "   number=number /3\n",
    "   count+=1\n",
    "   print(\"thre number can be divided by 3\",count,\"times\")"
   ]
  },
  {
   "cell_type": "code",
   "execution_count": null,
   "id": "cd91b9c0-5d83-4d71-8d83-08b0f35fb814",
   "metadata": {},
   "outputs": [],
   "source": [
    "Q5:Why and When to use While Loop in Python give a detailed description With example.\n",
    "Ans:A while loop in python continue to execute as long as the condition is 'True'. the basic structure of a while loop is :\n",
    "while condition :\n",
    "    #code to be executed\n",
    "    example of while loop are:\n",
    "    count=0\n",
    "while count<5:\n",
    "   print(\"the count is:,count\")\n",
    "    count+=1\n",
    "    print(\"Existed the loop\")\n",
    "    in thid example ,the loop will execute as long as the value of count is less than 5.\n",
    "    #its important to make sure that the codition in a while loop eventually becomes false to prevent an infinte loop. "
   ]
  },
  {
   "cell_type": "code",
   "execution_count": null,
   "id": "d7bf989d-707c-4786-9d41-776f5cb67199",
   "metadata": {},
   "outputs": [],
   "source": [
    "Q6:Use nested While loop to print 3 different pattern.\n",
    "Ans: 1.Pattern 1:print a right angled triangle made up of (*)\n",
    "rows=5\n",
    "i=1\n",
    "while i<= rows:\n",
    "j=1\n",
    "while j<=i:\n",
    "     print(\"*\",end=\"\")\n",
    "j=j+1\n",
    "    print(\"\")\n",
    "i=i+1.\n",
    "Pattern 2:\n",
    "    rows=5 \n",
    "for i in range(1,rows=1):\n",
    "for j in range(rows+1):\n",
    "        print(\" \",end=\"\")\n",
    "for j in range(i):\n",
    "        print(\"*,end=\" \")\n",
    "            print(\"\").\n",
    "Pattern 3.\n",
    "              rows=5\n",
    " for i in range(1,rows*2):\n",
    " for j in range(abs(rows-i)):\n",
    "            print(\"\",end=\"\")\n",
    " for jin range(rows*2-abs(rows-i)*2):\n",
    "              print(\"*\",end=\"\")\n",
    "              print(\"\")."
   ]
  },
  {
   "cell_type": "code",
   "execution_count": null,
   "id": "ad96811b-6baa-474a-9dc0-d573b8475562",
   "metadata": {},
   "outputs": [],
   "source": [
    "Q7:Reverse a While loop to display numbers from 10 to 1.\n",
    "Ans: count=10\n",
    "while count>0:\n",
    "    print(count)\n",
    "    count-=1"
   ]
  },
  {
   "cell_type": "code",
   "execution_count": null,
   "id": "f39be78e-1ee9-4bee-b6a9-dc04095ac755",
   "metadata": {},
   "outputs": [],
   "source": [
    "Q8:Reverse a While loop to display numbers from 10 to 1. \n",
    "Ans: count=10\n",
    " while count >0:\n",
    "        print(count)\n",
    "        count-=1"
   ]
  }
 ],
 "metadata": {
  "kernelspec": {
   "display_name": "Python 3 (ipykernel)",
   "language": "python",
   "name": "python3"
  },
  "language_info": {
   "codemirror_mode": {
    "name": "ipython",
    "version": 3
   },
   "file_extension": ".py",
   "mimetype": "text/x-python",
   "name": "python",
   "nbconvert_exporter": "python",
   "pygments_lexer": "ipython3",
   "version": "3.10.8"
  }
 },
 "nbformat": 4,
 "nbformat_minor": 5
}
